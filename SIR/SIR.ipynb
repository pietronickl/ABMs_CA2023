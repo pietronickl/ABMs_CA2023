{
 "cells": [
  {
   "cell_type": "code",
   "execution_count": 2,
   "metadata": {},
   "outputs": [],
   "source": [
    "from IPython import display\n",
    "import time\n",
    "from matplotlib.pyplot import imshow, show, pause\n",
    "import numpy as np\n",
    "import matplotlib.pyplot as plt\n",
    "from random import randint\n",
    "import random\n",
    "from math import sqrt\n",
    "from numpy.random import rand\n",
    "import scipy.stats as stats\n",
    "import itertools\n",
    "\n",
    "\n",
    "def get_unique_neighbors(neighbors):\n",
    "    \n",
    "    flattened = list(itertools.chain(*neighbors))\n",
    "    \n",
    "    unique_neighbors = list(set(flattened))\n",
    "\n",
    "    return unique_neighbors\n",
    "\n",
    "# given a matrix, find the neighboring cells\n",
    "# this function wraps around the borders, so that agents on the right border of the \n",
    "# matrix are neighbors with agents on the left border, and the top row is next to\n",
    "# the bottom row\n",
    "\n",
    "def get_wrapping_neighbor_indices(matrix, i , j):\n",
    "    neighbors = []\n",
    "\n",
    "    # for all neighbouring i and j, but not for matrix[i][j]\n",
    "    # i should not be negative or exceed the total row numbers\n",
    "    # j should not be negative or exceed the total column numbers\n",
    "    for row in [i-1, i, i+1]:\n",
    "        if row >= matrix.shape[0]:\n",
    "            row -= matrix.shape[0]\n",
    "        elif row < 0:\n",
    "            row += matrix.shape[0]\n",
    "        for col in [j-1, j, j+1]:\n",
    "            if col >= matrix.shape[0]:\n",
    "                col -= matrix.shape[0]\n",
    "            elif col < 0:\n",
    "                col += matrix.shape[0]\n",
    "            \n",
    "            if not (row == i and col == j):\n",
    "                neighbors.append((row, col))\n",
    "\n",
    "    return neighbors"
   ]
  },
  {
   "cell_type": "code",
   "execution_count": 6,
   "metadata": {},
   "outputs": [
    {
     "data": {
      "image/png": "[encoded data removed]",
      "text/plain": [
       "<Figure size 640x480 with 1 Axes>"
      ]
     },
     "metadata": {},
     "output_type": "display_data"
    }
   ],
   "source": [
    "# let's just define one side of the square, so we don't have to worry about square roots\n",
    "side = 100\n",
    "\n",
    "# initialise an empty array with the population size being side * side\n",
    "SIR = np.zeros((side, side))\n",
    "\n",
    "# first infection: randomly assign a patient 0\n",
    "SIR[randint(0, side-1), randint(0, side-1)] = 1  \n",
    "\n",
    "# show this grid\n",
    "im = plt.imshow(SIR)\n",
    "plt.axis('off')\n",
    "\n",
    "sharing_p = 0.30 \n",
    "\n",
    "# while there is at least one active infection, the infection  keeps going\n",
    "while 1 in SIR: \n",
    "\n",
    "    # get neighbors of infected person\n",
    "\n",
    "    # initialise empty list to store the neighbors\n",
    "    neighbors = []\n",
    "\n",
    "    # get the index of the infected person \n",
    "    infected = np.where(SIR == 1) \n",
    "\n",
    "    # for each infected agent, get their neighbours and append them to the list \n",
    "    for i, j in zip(infected[0], infected[1]):\n",
    "        neighbors.append(get_wrapping_neighbor_indices(SIR, i,j))\n",
    "\n",
    "    # we only need to keep the ones\n",
    "    neighbors = get_unique_neighbors(neighbors)\n",
    "    \n",
    "    # Keep only those who are susceptible, i.e. whose value is 0\n",
    "\n",
    "    infected = np.where(SIR == 1) #index of infected person \n",
    "\n",
    "    # Keep only those who are susceptible, i.e. whose value is 0\n",
    "\n",
    "    susceptible_neighbors = np.array([n for n in neighbors if SIR[n] == 0])\n",
    "\n",
    "    # determine which ones will be infected with sharing_probability \n",
    "    actually_infected = stats.bernoulli.rvs(sharing_p, size=len(susceptible_neighbors))\n",
    "    \n",
    "    # convert this into a boolean mask of FALSE/TRUE values\n",
    "    actually_infected = np.array(actually_infected).astype(bool)\n",
    "\n",
    "    # impose boolean mask on the susceptible_neighbors to get the indices\n",
    "    # of the neighbors who will ACTUALLY be infected\n",
    "    new_infections = susceptible_neighbors[actually_infected]\n",
    "\n",
    "    # those who were already infected recover (2)\n",
    "    SIR[np.nonzero(SIR == 1)] = 2\n",
    "\n",
    "    # the newly infected become infectious (1)\n",
    "    for i in new_infections:\n",
    "        SIR[i[0],i[1]] = 1\n",
    "\n",
    "    # update and show figure\n",
    "    im.set_data(SIR)\n",
    "    display.display(plt.gcf())\n",
    "    display.clear_output(wait=True)\n",
    "\n",
    "    # pause for a split second \n",
    "    time.sleep(0.1)\n",
    "    "
   ]
  },
  {
   "cell_type": "code",
   "execution_count": 4,
   "metadata": {},
   "outputs": [
    {
     "name": "stdout",
     "output_type": "stream",
     "text": [
      "in this cascade, 7618 people were infected \n",
      "that is 76.18% of the entire population\n"
     ]
    }
   ],
   "source": [
    "# let's see how many people were infected in total in this round\n",
    "print(f'in this cascade, {len(np.where(SIR == 2)[0])} people were infected \\nthat is {len(np.where(SIR == 2)[0])/(side*side)*100:.2f}% of the entire population')"
   ]
  },
  {
   "cell_type": "code",
   "execution_count": 5,
   "metadata": {},
   "outputs": [
    {
     "data": {
      "image/png": "[encoded data removed]",
      "text/plain": [
       "<Figure size 640x480 with 2 Axes>"
      ]
     },
     "metadata": {},
     "output_type": "display_data"
    }
   ],
   "source": [
    "# Initialize the grid with random numbers between 0 and 1\n",
    "grid = np.random.rand(12, 24)\n",
    "\n",
    "# Plot a numpy array as a grid \n",
    "plt.imshow(grid, cmap='viridis')\n",
    "plt.colorbar()\n",
    "plt.title('Random Grid')\n",
    "plt.show()\n"
   ]
  },
  {
   "cell_type": "code",
   "execution_count": null,
   "metadata": {},
   "outputs": [],
   "source": []
  }
 ],
 "metadata": {
  "kernelspec": {
   "display_name": "nltk",
   "language": "python",
   "name": "python3"
  },
  "language_info": {
   "codemirror_mode": {
    "name": "ipython",
    "version": 3
   },
   "file_extension": ".py",
   "mimetype": "text/x-python",
   "name": "python",
   "nbconvert_exporter": "python",
   "pygments_lexer": "ipython3",
   "version": "3.11.3"
  },
  "orig_nbformat": 4
 },
 "nbformat": 4,
 "nbformat_minor": 2
}
